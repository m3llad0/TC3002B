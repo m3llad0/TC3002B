{
  "cells": [
    {
      "cell_type": "code",
      "execution_count": 21,
      "metadata": {
        "id": "M7d35pzLba-A"
      },
      "outputs": [],
      "source": [
        "import spacy\n",
        "# Cargar modelo de SpaCy en inglés\n",
        "nlp = spacy.load('en_core_web_sm')\n"
      ]
    },
    {
      "cell_type": "code",
      "execution_count": 22,
      "metadata": {
        "colab": {
          "base_uri": "https://localhost:8080/"
        },
        "id": "za7-UgQbYDRr",
        "outputId": "44295760-57b0-46ed-9ca4-1cba99eac6e7"
      },
      "outputs": [
        {
          "name": "stderr",
          "output_type": "stream",
          "text": [
            "[nltk_data] Downloading package punkt to /home/diego/nltk_data...\n",
            "[nltk_data]   Package punkt is already up-to-date!\n",
            "[nltk_data] Downloading package stopwords to /home/diego/nltk_data...\n",
            "[nltk_data]   Package stopwords is already up-to-date!\n",
            "[nltk_data] Downloading package wordnet to /home/diego/nltk_data...\n",
            "[nltk_data]   Package wordnet is already up-to-date!\n"
          ]
        }
      ],
      "source": [
        "import re\n",
        "import nltk\n",
        "import matplotlib.pyplot as plt\n",
        "from sklearn.metrics import pairwise,roc_auc_score, roc_curve, confusion_matrix\n",
        "nltk.download('punkt')  # Descarga los recursos necesarios para tokenización de NLTK\n",
        "nltk.download('stopwords')\n",
        "from sklearn.feature_extraction.text import CountVectorizer\n",
        "from nltk.stem import SnowballStemmer\n",
        "from sklearn.feature_extraction.text import TfidfVectorizer\n",
        "from nltk.stem import WordNetLemmatizer\n",
        "nltk.download('wordnet')\n",
        "import os\n",
        "import spacy\n",
        "from nltk.tokenize import word_tokenize\n",
        "from nltk.corpus import stopwords\n",
        "from sklearn.feature_extraction.text import TfidfVectorizer\n",
        "from sklearn.metrics.pairwise import cosine_similarity\n",
        "import seaborn as sns\n"
      ]
    },
    {
      "cell_type": "markdown",
      "metadata": {
        "id": "Dwow6GDrO9r4"
      },
      "source": []
    },
    {
      "cell_type": "markdown",
      "metadata": {
        "id": "wgOF-8cbPZ38"
      },
      "source": [
        "Limpia el texto de entrada realizando las siguientes operaciones:\n",
        "    - Convierte el texto a minúsculas.\n",
        "    - Elimina todos los dígitos.\n",
        "    - Reemplaza todos los caracteres no alfanuméricos (como puntuación) con espacios.\n",
        "    \n",
        "  Parámetros:\n",
        "    text (str): El texto de entrada a limpiar.\n",
        "    \n",
        "  Retorna:\n",
        "    str: El texto limpio.\n",
        "    \n",
        "    Ejemplo:\n",
        "    >>> clean_text(\"¡Hola Mundo! 123\")\n",
        "    'hola mundo '"
      ]
    },
    {
      "cell_type": "markdown",
      "metadata": {
        "id": "VC43SUfVPfEf"
      },
      "source": []
    },
    {
      "cell_type": "code",
      "execution_count": 23,
      "metadata": {
        "id": "0i6P2JkFYWGW"
      },
      "outputs": [],
      "source": [
        "# Limpieza de datos\n",
        "def clean_text(text):\n",
        "    text = text.lower()\n",
        "    text = re.sub(r'\\d+', '', text)\n",
        "    text = re.sub(r'\\W+', ' ', text)\n",
        "    return text"
      ]
    },
    {
      "cell_type": "markdown",
      "metadata": {
        "id": "L4R-is06PmNh"
      },
      "source": [
        "Elimina las stop words de una lista de tokens.\n",
        "    \n",
        "  Parámetros:\n",
        "    tokens (list of str): La lista de tokens de la cual se eliminarán las stop words.\n",
        "    \n",
        "  Retorna:\n",
        "    list of str: La lista de tokens sin las stop words.\n",
        "    \n",
        "    Ejemplo:\n",
        "    >>> remove_stopwords(['this', 'is', 'a', 'sample', 'text'])\n",
        "    ['sample', 'text']"
      ]
    },
    {
      "cell_type": "code",
      "execution_count": 24,
      "metadata": {
        "id": "Hmvi-IS4Yj3g"
      },
      "outputs": [],
      "source": [
        "# Eliminación de stop words\n",
        "stop_words = set(stopwords.words('english'))\n",
        "def remove_stopwords(tokens):\n",
        "    return [word for word in tokens if word not in stop_words]"
      ]
    },
    {
      "cell_type": "markdown",
      "metadata": {
        "id": "98OsxDegPu4l"
      },
      "source": [
        "  Aplica la lematización a una lista de tokens utilizando SpaCy.\n",
        "    \n",
        "  Parámetros:\n",
        "    tokens (list of str): La lista de tokens a lematizar.\n",
        "    \n",
        "  Retorna:\n",
        "    list of str: La lista de tokens lematizados.\n",
        "    \n",
        "    Ejemplo:\n",
        "    >>> lemmatize_tokens(['running', 'jumps', 'easily'])\n",
        "    ['run', 'jump', 'easily']"
      ]
    },
    {
      "cell_type": "code",
      "execution_count": 25,
      "metadata": {
        "id": "Jz33x0dkYqAl"
      },
      "outputs": [],
      "source": [
        "#Lemmatization\n",
        "# Aplicar lematizador de SpaCy\n",
        "def lemmatize_tokens(tokens):\n",
        "    doc = nlp(\" \".join(tokens))\n",
        "    return [token.lemma_ for token in doc]"
      ]
    },
    {
      "cell_type": "markdown",
      "metadata": {
        "id": "tx79JnY2QLQy"
      },
      "source": [
        "\n",
        "  Limpia y preprocesa el texto de entrada realizando las siguientes operaciones:\n",
        "    - Limpieza básica (convertir a minúsculas, eliminar dígitos y caracteres no alfanuméricos).\n",
        "    - Tokenización de palabras.\n",
        "    - Eliminación de stop words.\n",
        "    - Lematización utilizando SpaCy.\n",
        "    \n",
        "  Parámetros:\n",
        "    text (str): El texto de entrada a preprocesar.\n",
        "    \n",
        "  Retorna:\n",
        "    str: El texto preprocesado, con tokens lematizados unidos en una sola cadena.\n",
        "    \n",
        "    Ejemplo:\n",
        "    >>> preprocess_text(\"¡Hola Mundo! Este es un ejemplo de texto 123.\")\n",
        "    'hola mundo ejemplo texto'"
      ]
    },
    {
      "cell_type": "code",
      "execution_count": 26,
      "metadata": {
        "id": "RoWXX9D_gDLo"
      },
      "outputs": [],
      "source": [
        "# Función para limpiar y preprocesar texto\n",
        "def preprocess_text(text):\n",
        "    # Limpieza básica\n",
        "    text = clean_text(text)\n",
        "    tokens = word_tokenize(text)\n",
        "\n",
        "    # Eliminación de stop words\n",
        "    tokens = [word for word in tokens if word not in stop_words]\n",
        "\n",
        "    # Lematización\n",
        "    doc = nlp(\" \".join(tokens))\n",
        "    lemmatized_tokens = [token.lemma_ for token in doc]\n",
        "\n",
        "    return \" \".join(lemmatized_tokens)"
      ]
    },
    {
      "cell_type": "markdown",
      "metadata": {
        "id": "WosU-jKPR4UI"
      },
      "source": [
        "##Procesamos los archivos del dataset a traves de las  funcion de preprocesamiento\n",
        "### Variables:\n",
        "####files_names -> Guarda en una lista los nombres de los archivos procesados.\n",
        "####texts-> Guarda en una lista los textos de los archivos."
      ]
    },
    {
      "cell_type": "code",
      "execution_count": 27,
      "metadata": {
        "id": "1ktYxpxWf8GQ"
      },
      "outputs": [],
      "source": [
        "# Ruta de los archivos de texto\n",
        "directory = '../dataset/files'"
      ]
    },
    {
      "cell_type": "code",
      "execution_count": 28,
      "metadata": {
        "colab": {
          "base_uri": "https://localhost:8080/"
        },
        "id": "fkS-3Covf2_4",
        "outputId": "f06ee613-91f6-4f36-ec4b-df91e032f590"
      },
      "outputs": [
        {
          "name": "stdout",
          "output_type": "stream",
          "text": [
            "Número de archivos procesados: 70\n"
          ]
        }
      ],
      "source": [
        "# Leer y preprocesar todos los archivos de texto\n",
        "texts = []\n",
        "file_names = []\n",
        "for filename in os.listdir(directory):\n",
        "    if filename.endswith('.txt'):\n",
        "        with open(os.path.join(directory, filename), 'r', encoding='utf-8') as file:\n",
        "            text = file.read()\n",
        "            preprocessed_text = preprocess_text(text)\n",
        "            texts.append(preprocessed_text)\n",
        "            file_names.append(filename)\n",
        "print(\"Número de archivos procesados:\", len(texts))"
      ]
    },
    {
      "cell_type": "markdown",
      "metadata": {
        "id": "x9hbWDtiTVuN"
      },
      "source": [
        "#### Aplicamos el vectorizador a los textos preprocesados y transforma los textos en una matriz TF-IDF"
      ]
    },
    {
      "cell_type": "code",
      "execution_count": 29,
      "metadata": {
        "colab": {
          "base_uri": "https://localhost:8080/"
        },
        "id": "LghKEc8MhEkZ",
        "outputId": "1acc4db1-98bc-4d41-a456-7700891b68e8"
      },
      "outputs": [
        {
          "name": "stdout",
          "output_type": "stream",
          "text": [
            "Dimensión de la matriz TF-IDF: (70, 2195)\n"
          ]
        }
      ],
      "source": [
        "# Vectorización de los textos\n",
        "tfidf_vectorizer = TfidfVectorizer()\n",
        "X = tfidf_vectorizer.fit_transform(texts)\n",
        "print(\"Dimensión de la matriz TF-IDF:\", X.shape)"
      ]
    },
    {
      "cell_type": "markdown",
      "metadata": {
        "id": "eN4SYIdCYZyW"
      },
      "source": [
        "##Procesamos los archivos de los datos de validación a traves de las  funcion de preprocesamiento\n",
        "### Variables:\n",
        "####files_names_2 -> Guarda en una lista los nombres de los archivos procesados.\n",
        "####texts_2 -> Guarda en una lista los textos de los archivos."
      ]
    },
    {
      "cell_type": "code",
      "execution_count": 30,
      "metadata": {
        "colab": {
          "base_uri": "https://localhost:8080/"
        },
        "id": "sKgBwjaGBv8o",
        "outputId": "c8eccb41-c946-493d-d8a5-64142ac0f900"
      },
      "outputs": [
        {
          "name": "stdout",
          "output_type": "stream",
          "text": [
            "Número de archivos procesados: 20\n",
            "['FID-002.txt', 'FID-011.txt', 'FID-015.txt', 'FID-006.txt', 'FID-016.txt', 'FID-010.txt', 'FID-017.txt', 'FID-005.txt', 'FID-019.txt', 'FID-009.txt', 'FID-004.txt', 'FID-012.txt', 'FID-018.txt', 'FID-003.txt', 'FID-008.txt', 'FID-020.txt', 'FID-007.txt', 'FID-014.txt', 'FID-013.txt', 'FID-001.txt']\n"
          ]
        }
      ],
      "source": [
        "# Leer y preprocesar todos los archivos de texto\n",
        "test_dir = \"../dataset/test_files\"\n",
        "texts_2 = []\n",
        "file_names_2 = []\n",
        "for filename in os.listdir(test_dir):\n",
        "    if filename.endswith('.txt'):\n",
        "        with open(os.path.join(test_dir, filename), 'r', encoding='utf-8') as file:\n",
        "            text = file.read()\n",
        "            preprocessed_text = preprocess_text(text)\n",
        "            texts_2.append(preprocessed_text)\n",
        "            file_names_2.append(filename)\n",
        "print(\"Número de archivos procesados:\", len(texts_2))\n",
        "print(file_names_2)"
      ]
    },
    {
      "cell_type": "markdown",
      "metadata": {
        "id": "DRMqHdycYwXK"
      },
      "source": [
        "##Iteramos sobre los textos de validación para vectorizarlos en una matriz, obtenemos la similitud de coseno entre los vectores de los textos de validación de los del dataset original y evaluamos la que la similitud sea mayor a 30%\n",
        "### Variables:\n",
        "####similarity_threshold -> Variable de criterio para determinar si un texto es plagio o no de acuerdo al valor resultante de la similitud de coseno\n",
        "####similarity_scores -> Guarda en una lista el valor maximo de la similitud de coseno de entra cada texto de validación y los textos del dataset"
      ]
    },
    {
      "cell_type": "code",
      "execution_count": 31,
      "metadata": {
        "colab": {
          "base_uri": "https://localhost:8080/"
        },
        "id": "8zx8lTWdCptA",
        "outputId": "d9485ac1-c9c5-486d-b967-2f1231d6d709"
      },
      "outputs": [
        {
          "name": "stdout",
          "output_type": "stream",
          "text": [
            "Archivo: FID-016.txt, Similitud: 0.9895\n",
            "Archivo: FID-010.txt, Similitud: 0.9757\n",
            "Archivo: FID-005.txt, Similitud: 0.8291\n",
            "Archivo: FID-005.txt, Similitud: 0.3011\n",
            "Archivo: FID-018.txt, Similitud: 1.0000\n",
            "Archivo: FID-014.txt, Similitud: 0.7481\n",
            "Archivo: FID-014.txt, Similitud: 0.5034\n"
          ]
        }
      ],
      "source": [
        "similarity_threshold = 0.3\n",
        "similarity_scores = []\n",
        "\n",
        "# Iterar sobre cada archivo procesado y calcular similitudes\n",
        "for input_text, input_filename in zip(texts_2, file_names_2):\n",
        "    # preprocessed_input_text = preprocess_text(input_text)\n",
        "    input_vector = tfidf_vectorizer.transform([input_text])\n",
        "    cosine_similarities = cosine_similarity(input_vector, X).flatten()\n",
        "    similarity_scores.append(max(cosine_similarities))\n",
        "    for i, similarity in enumerate(cosine_similarities):\n",
        "      if similarity > similarity_threshold:\n",
        "          print(f\"Archivo: {input_filename}, Similitud: {similarity:.4f}\")\n",
        "\n",
        "\n",
        "\n"
      ]
    },
    {
      "cell_type": "markdown",
      "metadata": {
        "id": "FZhSfW2UZzTH"
      },
      "source": [
        "###Establecemos nuestra lista de true_labels, conociendo los textos de validación que en efecto han sido copiados de nuestros textos originales del dataset"
      ]
    },
    {
      "cell_type": "code",
      "execution_count": 32,
      "metadata": {
        "id": "H8exfOEKCKVG"
      },
      "outputs": [],
      "source": [
        "true_labels_dict = {\n",
        "    'FID-001.txt': 0, 'FID-002.txt': 0, 'FID-003.txt': 0, 'FID-004.txt': 0, 'FID-005.txt': 1,\n",
        "    'FID-006.txt': 0, 'FID-007.txt': 0, 'FID-008.txt': 0, 'FID-009.txt': 0, 'FID-010.txt': 1,\n",
        "    'FID-011.txt': 0, 'FID-012.txt': 0, 'FID-013.txt': 1, 'FID-014.txt': 1, 'FID-015.txt': 1,\n",
        "    'FID-016.txt': 1, 'FID-017.txt': 1, 'FID-018.txt': 1, 'FID-019.txt': 1, 'FID-020.txt': 1\n",
        "}\n",
        "# Crear la lista de true_labels en el orden de file_names_2\n",
        "true_labels = [true_labels_dict[filename] for filename in file_names_2]"
      ]
    },
    {
      "cell_type": "markdown",
      "metadata": {
        "id": "AeLo6kjOaZk1"
      },
      "source": [
        "###Validamos nuestro sistema al obtener la matriz de confusion de entre los textos, y ademas obtenemos una grafica ROC que en escencia es la tasa entre los verdaderos positivos y los falsos positivos y determinamos el AUC la cual es el area bajo la curva que determina que tan buen discriminanor es el sistema."
      ]
    },
    {
      "cell_type": "code",
      "execution_count": 33,
      "metadata": {
        "colab": {
          "base_uri": "https://localhost:8080/",
          "height": 1000
        },
        "id": "VRSmSJ-xING2",
        "outputId": "0ddbe1e2-9c4c-4566-81a9-cacbda39849f"
      },
      "outputs": [
        {
          "data": {
            "image/png": "[encoded data removed]",
            "text/plain": [
              "<Figure size 1000x700 with 2 Axes>"
            ]
          },
          "metadata": {},
          "output_type": "display_data"
        },
        {
          "data": {
            "image/png": "[encoded data removed]",
            "text/plain": [
              "<Figure size 1000x700 with 1 Axes>"
            ]
          },
          "metadata": {},
          "output_type": "display_data"
        }
      ],
      "source": [
        "\n",
        "# Crear las etiquetas predichas en función del umbral\n",
        "predicted_labels = [1 if score >= similarity_threshold else 0 for score in similarity_scores]\n",
        "\n",
        "# Calcular la matriz de confusión\n",
        "cm = confusion_matrix(true_labels, predicted_labels)\n",
        "\n",
        "# Mostrar la matriz de confusión\n",
        "plt.figure(figsize=(10, 7))\n",
        "sns.heatmap(cm, annot=True, fmt='d', cmap='Blues', xticklabels=['Genuino', 'Plagiado'], yticklabels=['Genuino', 'Plagiado'])\n",
        "plt.xlabel('Predicción')\n",
        "plt.ylabel('Real')\n",
        "plt.title('Matriz de Confusión')\n",
        "plt.show()\n",
        "\n",
        "# Calcular las tasas de verdaderos positivos y falsos positivos para la curva ROC\n",
        "fpr, tpr, _ = roc_curve(true_labels, similarity_scores)\n",
        "\n",
        "# Calcular el área bajo la curva (AUC)\n",
        "roc_auc = roc_auc_score(true_labels, similarity_scores)\n",
        "\n",
        "# Graficar la curva ROC\n",
        "plt.figure(figsize=(10, 7))\n",
        "plt.plot(fpr, tpr, color='blue', lw=2, label=f'ROC curve (AUC = {roc_auc:.2f})')\n",
        "plt.plot([0, 1], [0, 1], color='gray', linestyle='--')\n",
        "plt.xlim([0.0, 1.0])\n",
        "plt.ylim([0.0, 1.05])\n",
        "plt.xlabel('Tasa de Falsos Positivos')\n",
        "plt.ylabel('Tasa de Verdaderos Positivos')\n",
        "plt.title('Curva ROC')\n",
        "plt.legend(loc=\"lower right\")\n",
        "plt.show()"
      ]
    }
  ],
  "metadata": {
    "colab": {
      "provenance": []
    },
    "kernelspec": {
      "display_name": "Python 3",
      "name": "python3"
    },
    "language_info": {
      "codemirror_mode": {
        "name": "ipython",
        "version": 3
      },
      "file_extension": ".py",
      "mimetype": "text/x-python",
      "name": "python",
      "nbconvert_exporter": "python",
      "pygments_lexer": "ipython3",
      "version": "3.12.3"
    }
  },
  "nbformat": 4,
  "nbformat_minor": 0
}
